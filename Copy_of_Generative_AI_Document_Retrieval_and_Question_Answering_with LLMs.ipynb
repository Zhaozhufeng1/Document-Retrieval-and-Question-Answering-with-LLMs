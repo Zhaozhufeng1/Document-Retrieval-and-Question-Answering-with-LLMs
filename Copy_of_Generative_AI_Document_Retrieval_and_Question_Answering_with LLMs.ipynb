{
  "cells": [
    {
      "cell_type": "markdown",
      "metadata": {
        "id": "view-in-github",
        "colab_type": "text"
      },
      "source": [
        "<a href=\"https://colab.research.google.com/github/Zhaozhufeng1/Zhaozhufeng1-Document-Retrieval-and-Question-Answering-with-LLMs/blob/main/Copy_of_Generative_AI_Document_Retrieval_and_Question_Answering_with%C2%A0LLMs.ipynb\" target=\"_parent\"><img src=\"https://colab.research.google.com/assets/colab-badge.svg\" alt=\"Open In Colab\"/></a>"
      ]
    },
    {
      "cell_type": "markdown",
      "metadata": {
        "id": "hQsm4wb-SMuU"
      },
      "source": [
        "# Generative AI - Document Retrieval and Question Answering with LLMs\n"
      ]
    },
    {
      "cell_type": "markdown",
      "metadata": {
        "id": "B__wfnHUMwD5"
      },
      "source": [
        "## Authenticate"
      ]
    },
    {
      "cell_type": "code",
      "execution_count": null,
      "metadata": {
        "id": "dIwRWkyz-OMa"
      },
      "outputs": [],
      "source": [
        "from google.colab import auth as google_auth\n",
        "google_auth.authenticate_user()"
      ]
    },
    {
      "cell_type": "code",
      "execution_count": null,
      "metadata": {
        "id": "NdgGrBZ0-Rw8",
        "colab": {
          "base_uri": "https://localhost:8080/"
        },
        "outputId": "fbe502d4-42f5-4b3e-e7f8-3260b9f9fad3"
      },
      "outputs": [
        {
          "output_type": "stream",
          "name": "stdout",
          "text": [
            "\u001b[1;33mWARNING:\u001b[0m You do not appear to have access to project [sascha-playground-doit] or it does not exist.\n",
            "Are you sure you wish to set property [core/project] to sascha-playground-doit?\n",
            "\n",
            "Do you want to continue (Y/n)?  \n",
            "\n",
            "Command killed by keyboard interrupt\n",
            "\n",
            "^C\n"
          ]
        }
      ],
      "source": [
        "\n",
        "!gcloud config set project sascha-playground-doit"
      ]
    },
    {
      "cell_type": "markdown",
      "metadata": {
        "id": "Nq0y8DBBMxiH"
      },
      "source": [
        "## Dependencies"
      ]
    },
    {
      "cell_type": "code",
      "execution_count": null,
      "metadata": {
        "id": "COeJRmTx-Vvu"
      },
      "outputs": [],
      "source": [
        "!pip install google-cloud-aiplatform==1.25.0\n",
        "!pip install langchain==0.0.187\n",
        "!pip install xmltodict==0.13.0\n",
        "!pip install unstructured==0.7.0 # used by langchain\n",
        "!pip install pdf2image==1.16.3 #used by langchain\n",
        "!pip install requests==2.31.0\n",
        "!pip install beautifulsoup4==4.12.2"
      ]
    },
    {
      "cell_type": "code",
      "execution_count": null,
      "metadata": {
        "id": "TK-M39QfPujV"
      },
      "outputs": [],
      "source": [
        "PROJECT_ID = 'sascha-playground-doit'\n",
        "REGION = 'us-central1'\n",
        "BUCKET = 'gs://doit-llm/embeddings'\n",
        "DIMENSIONS=768\n",
        "DISPLAY_NAME='palm-langchain-document-answering'\n",
        "ENDPOINT='us-central1-aiplatform.googleapis.com'\n",
        "TEXT_GENERATION_MODEL='text-bison@001'\n",
        "\n",
        "sitemap='https://cloud.google.com/vertex-ai/sitemap.xml'"
      ]
    },
    {
      "cell_type": "code",
      "execution_count": null,
      "metadata": {
        "id": "a1-0uwS1-dC7"
      },
      "outputs": [],
      "source": [
        "import os\n",
        "from google.cloud import aiplatform\n",
        "\n",
        "aiplatform.init(project=PROJECT_ID, location=REGION)"
      ]
    },
    {
      "cell_type": "markdown",
      "metadata": {
        "id": "jKkK8ZaeTMv0"
      },
      "source": [
        "# Documents\n",
        "## Parse the sitemap"
      ]
    },
    {
      "cell_type": "code",
      "execution_count": null,
      "metadata": {
        "id": "kxx8thwi62WB"
      },
      "outputs": [],
      "source": [
        "import requests\n",
        "from bs4 import BeautifulSoup\n",
        "\n",
        "def parse_sitemap(url):\n",
        "    response = requests.get(url)\n",
        "    soup = BeautifulSoup(response.content, \"xml\")\n",
        "    urls = [element.text for element in soup.find_all(\"loc\")]\n",
        "    return urls\n",
        "\n",
        "sites = parse_sitemap(sitemap)"
      ]
    },
    {
      "cell_type": "code",
      "execution_count": null,
      "metadata": {
        "id": "8UzZi--A6AF-"
      },
      "outputs": [],
      "source": [
        "sites_filtered = [url for url in sites if '/reference/' not in url and '?hl' not in url]\n",
        "sites_filtered"
      ]
    },
    {
      "cell_type": "code",
      "execution_count": null,
      "metadata": {
        "id": "T6AY_Wiz6enU"
      },
      "outputs": [],
      "source": [
        "len(sites_filtered)"
      ]
    },
    {
      "cell_type": "markdown",
      "metadata": {
        "id": "CAoHAqVaRv5B"
      },
      "source": [
        "## Load page content using LangChains UnstructuredURLLoader"
      ]
    },
    {
      "cell_type": "code",
      "execution_count": null,
      "metadata": {
        "id": "h1s2vZLDRwhr"
      },
      "outputs": [],
      "source": [
        "from langchain.document_loaders import UnstructuredURLLoader\n",
        "loader = UnstructuredURLLoader(urls=sites_filtered)\n",
        "documents = loader.load()"
      ]
    },
    {
      "cell_type": "code",
      "execution_count": null,
      "metadata": {
        "id": "cE_ehju0SpZ3"
      },
      "outputs": [],
      "source": [
        "documents[0]"
      ]
    },
    {
      "cell_type": "code",
      "execution_count": null,
      "metadata": {
        "id": "4W87sPubCITw"
      },
      "outputs": [],
      "source": [
        "len(documents)"
      ]
    },
    {
      "cell_type": "markdown",
      "metadata": {
        "id": "Wyxu9uAySaC7"
      },
      "source": [
        "## Chunking"
      ]
    },
    {
      "cell_type": "code",
      "execution_count": null,
      "metadata": {
        "id": "s0huyH8gRy0n"
      },
      "outputs": [],
      "source": [
        "from langchain.text_splitter import CharacterTextSplitter\n",
        "\n",
        "text_splitter = CharacterTextSplitter(\n",
        "    separator = \"\\n\",\n",
        "    chunk_size = 1000,\n",
        "    chunk_overlap  = 100)\n",
        "\n",
        "document_chunks = text_splitter.split_documents(documents)\n",
        "\n",
        "print(f\"Number documents {len(documents)}\")\n",
        "print(f\"Number chunks {len(document_chunks)}\")\n",
        "\n",
        "document_chunks=[f\"Context: {chunk.page_content} Source: {chunk.metadata['source']}\" for chunk in document_chunks]"
      ]
    },
    {
      "cell_type": "markdown",
      "metadata": {
        "id": "PBZxCWdkSy1G"
      },
      "source": [
        "# Embeddings for documents\n",
        "\n"
      ]
    },
    {
      "cell_type": "markdown",
      "metadata": {
        "id": "B5mc_BoMko_Q"
      },
      "source": [
        "## Create embedding for all document chunks"
      ]
    },
    {
      "cell_type": "code",
      "execution_count": null,
      "metadata": {
        "id": "FZPG3kKhYZYd"
      },
      "outputs": [],
      "source": [
        "!rm -rf ./documents\n",
        "!mkdir ./documents"
      ]
    },
    {
      "cell_type": "code",
      "execution_count": null,
      "metadata": {
        "id": "QJr0wpJzlWf5"
      },
      "outputs": [],
      "source": [
        "import time\n",
        "from langchain.embeddings import VertexAIEmbeddings\n",
        "import pandas as pd\n",
        "import json\n",
        "\n",
        "def handle_quota_errors(func, *args, retry_delay=5,backoff_factor=2, **kwargs):\n",
        "    retries = 0\n",
        "\n",
        "    try:\n",
        "      return func(*args, **kwargs)\n",
        "    except Exception as e:\n",
        "      print(f\"error: {e}\")\n",
        "      retries += 1\n",
        "      wait = retry_delay * (backoff_factor ** retries)\n",
        "      time.sleep(wait)\n",
        "      print(\"wait for {wait} seconds\")\n",
        "\n",
        "\n",
        "embeddings = VertexAIEmbeddings()\n",
        "\n",
        "df = pd.DataFrame(document_chunks, columns =['text'])\n",
        "\n",
        "index_embeddings = []\n",
        "\n",
        "for index, doc in df.iterrows():\n",
        "  print(f\"Get embedding and write document for document {index} of {len(df)-1}\")\n",
        "  embedding = handle_quota_errors(embeddings.embed_query, doc['text'])\n",
        "\n",
        "  if embedding is not None:\n",
        "\n",
        "    doc_id=f\"{index}.txt\"\n",
        "    embedding_dict = {\n",
        "              \"id\": doc_id,\n",
        "              \"embedding\": [str(value) for value in embedding],\n",
        "    }\n",
        "    index_embeddings.append(json.dumps(embedding_dict) + \"\\n\")\n",
        "\n",
        "    doc_id = f\"{index}.txt\"\n",
        "    with open(f\"documents/{doc_id}\", \"w\") as document:\n",
        "      document.write(doc['text'])\n",
        "\n",
        "\n",
        "with open(\"embeddings.json\", \"w\") as f:\n",
        "    f.writelines(index_embeddings)"
      ]
    },
    {
      "cell_type": "markdown",
      "metadata": {
        "id": "LJeB5zPas2gc"
      },
      "source": [
        "## Copy document chunks and embeddings to Google Cloud Storage for later indexing and retreival steps"
      ]
    },
    {
      "cell_type": "code",
      "execution_count": null,
      "metadata": {
        "colab": {
          "background_save": true
        },
        "id": "140tDzaxWwA_"
      },
      "outputs": [],
      "source": [
        "!gsutil cp -r documents  gs://doit-llm/documents\n",
        "!gsutil cp embeddings.json gs://doit-llm/embeddings/embeddings.json"
      ]
    },
    {
      "cell_type": "markdown",
      "metadata": {
        "id": "gGvJ7-aWg66g"
      },
      "source": [
        "# Index"
      ]
    },
    {
      "cell_type": "markdown",
      "metadata": {
        "id": "kuNvJ6fwTwCU"
      },
      "source": [
        "## Option 1 - Create Streaming Index"
      ]
    },
    {
      "cell_type": "code",
      "execution_count": null,
      "metadata": {
        "id": "iq4sywfQTQlb"
      },
      "outputs": [],
      "source": [
        "%%writefile index.json\n",
        "{\n",
        "    displayName: \"palm-langchain-document-answering\",\n",
        "    description: \"palm-langchain-document-answering\",\n",
        "    metadata: {\n",
        "       contentsDeltaUri: \"gs://doit-llm/embeddings\",\n",
        "       config: {\n",
        "          dimensions: \"768\",\n",
        "          approximateNeighborsCount: 150,\n",
        "          distanceMeasureType: \"DOT_PRODUCT_DISTANCE\",\n",
        "          algorithmConfig: {\n",
        "             bruteForceConfig: {}\n",
        "          }\n",
        "       },\n",
        "    },\n",
        "    indexUpdateMethod: \"STREAM_UPDATE\"\n",
        "}"
      ]
    },
    {
      "cell_type": "code",
      "execution_count": null,
      "metadata": {
        "id": "xXFzI-OUSg8j"
      },
      "outputs": [],
      "source": [
        "!curl -X POST -H \"Content-Type: application/json\" \\\n",
        "-H \"Authorization: Bearer `gcloud auth print-access-token`\" \\\n",
        "https://us-central1-aiplatform.googleapis.com/v1/projects/sascha-playground-doit/locations/us-central1/indexes \\\n",
        "-d @index.json"
      ]
    },
    {
      "cell_type": "markdown",
      "metadata": {
        "id": "WSrQS9r-T1W4"
      },
      "source": [
        "## Option 2 - Create Batch Index"
      ]
    },
    {
      "cell_type": "code",
      "execution_count": null,
      "metadata": {
        "id": "_8utFDJBg7fC"
      },
      "outputs": [],
      "source": [
        "index = aiplatform.MatchingEngineIndex.create_tree_ah_index(\n",
        "      display_name=DISPLAY_NAME,\n",
        "      contents_delta_uri=BUCKET,\n",
        "      dimensions=DIMENSIONS,\n",
        "      approximate_neighbors_count=150,\n",
        "      distance_measure_type=\"DOT_PRODUCT_DISTANCE\")"
      ]
    },
    {
      "cell_type": "markdown",
      "metadata": {
        "id": "40Rkn2H1qOKQ"
      },
      "source": [
        "## Create Endpoint"
      ]
    },
    {
      "cell_type": "code",
      "execution_count": null,
      "metadata": {
        "id": "OcsBQjXypp6G"
      },
      "outputs": [],
      "source": [
        "REGION = \"us-central1\"\n",
        "ENDPOINT = \"{}-aiplatform.googleapis.com\".format(REGION)\n",
        "\n",
        "PROJECT_ID = \"sascha-playground-doit\"\n",
        "PARENT = \"projects/{}/locations/{}\".format(PROJECT_ID, REGION)\n",
        "\n",
        "PROJECT_NUMBER = !gcloud projects list --filter=\"PROJECT_ID:'{PROJECT_ID}'\" --format='value(PROJECT_NUMBER)'\n",
        "PROJECT_NUMBER = PROJECT_NUMBER[0]\n",
        "\n",
        "NETWORK_NAME = \"matching-engine-vpc-network\"\n",
        "\n",
        "VPC_NETWORK_NAME = \"projects/{}/global/networks/{}\".format(PROJECT_NUMBER, NETWORK_NAME)\n",
        "VPC_NETWORK_NAME"
      ]
    },
    {
      "cell_type": "code",
      "execution_count": null,
      "metadata": {
        "id": "7O1nFtCUpcB9"
      },
      "outputs": [],
      "source": [
        "index_endpoint = aiplatform.MatchingEngineIndexEndpoint.create(\n",
        "    display_name=DISPLAY_NAME,\n",
        "    description=DISPLAY_NAME,\n",
        "    network=VPC_NETWORK_NAME,\n",
        "    #IMPORTANT if you want to use a public endpoint you need to use aiplatform_v1beta1 when query or inserting vectors\n",
        "    # https://cloud.google.com/vertex-ai/docs/matching-engine/deploy-index-public\n",
        "    # public_endpoint_enabled=True\n",
        ")"
      ]
    },
    {
      "cell_type": "markdown",
      "metadata": {
        "id": "bWGHon-5qX-z"
      },
      "source": [
        "## Deploy Index"
      ]
    },
    {
      "cell_type": "code",
      "execution_count": null,
      "metadata": {
        "id": "Q6XbptJyiPHS"
      },
      "outputs": [],
      "source": [
        "# uncomment if you want to use existing index or endpoint\n",
        "\n",
        "INDEX_RESOURCE_NAME = \"projects/234439745674/locations/us-central1/indexes/8624771518414454784\"\n",
        "index = aiplatform.MatchingEngineIndex(index_name=INDEX_RESOURCE_NAME)\n",
        "\n",
        "ENDPOINT_RESOURCE_NAME = \"projects/234439745674/locations/us-central1/indexEndpoints/1017628797832265728\"\n",
        "index_endpoint = aiplatform.MatchingEngineIndexEndpoint(index_endpoint_name=ENDPOINT_RESOURCE_NAME)"
      ]
    },
    {
      "cell_type": "code",
      "execution_count": null,
      "metadata": {
        "id": "sMDrZF3UqY1q"
      },
      "outputs": [],
      "source": [
        "deployed_index = index_endpoint.deploy_index(\n",
        "    index=index, deployed_index_id=DISPLAY_NAME.replace('-','_')\n",
        ")"
      ]
    },
    {
      "cell_type": "markdown",
      "metadata": {
        "id": "RU3LJ2iwrDRn"
      },
      "source": [
        "# The fun part (needs to be inside the same VPC)\n",
        "Matching Engine now supports in beta public endpoints. Stayed tuned for a dedicated article on that.\n"
      ]
    },
    {
      "cell_type": "code",
      "execution_count": null,
      "metadata": {
        "id": "Aar1J6wRjwX2"
      },
      "outputs": [],
      "source": [
        "INDEX='8624771518414454784'\n",
        "ENDPOINT='1017628797832265728'\n",
        "DOCS_BUCKET='doit-llm'\n",
        "\n",
        "from langchain.embeddings import VertexAIEmbeddings\n",
        "embeddings = VertexAIEmbeddings()"
      ]
    },
    {
      "cell_type": "code",
      "execution_count": null,
      "metadata": {
        "id": "UW7OX7rorFjs"
      },
      "outputs": [],
      "source": [
        "from langchain.vectorstores.matching_engine import MatchingEngine\n",
        "from langchain.agents import Tool\n",
        "\n",
        "def matching_engine_search(question):\n",
        "\n",
        "    vector_store = MatchingEngine.from_components(\n",
        "                        index_id=INDEX,\n",
        "                        region=REGION,\n",
        "                        embedding=embeddings,\n",
        "                        project_id=PROJECT_ID,\n",
        "                        endpoint_id=ENDPOINT,\n",
        "                        gcs_bucket_name=DOCS_BUCKET)\n",
        "\n",
        "    relevant_documentation=vector_store.similarity_search(question, k=8)\n",
        "    context = \"\\n\".join([doc.page_content for doc in relevant_documentation])[:10000]\n",
        "    return str(context)"
      ]
    },
    {
      "cell_type": "code",
      "execution_count": null,
      "metadata": {
        "id": "WkP2z9LN3_2N"
      },
      "outputs": [],
      "source": [
        "question = \"what is the latency for Vertex AI Matching Engine?\""
      ]
    },
    {
      "cell_type": "code",
      "execution_count": null,
      "metadata": {
        "id": "FO4y9ArVrHJq"
      },
      "outputs": [],
      "source": [
        "from vertexai.preview.language_models import TextGenerationModel\n",
        "\n",
        "matching_engine_response=matching_engine_search(question)\n",
        "\n",
        "prompt=f\"\"\"\n",
        "Follow exactly those 3 steps:\n",
        "1. Read the context below and aggregrate this data\n",
        "Context : {matching_engine_response}\n",
        "2. Answer the question using only this context\n",
        "3. Show the source for your answers\n",
        "User Question: {question}\n",
        "\n",
        "\n",
        "If you don't have any context and are unsure of the answer, reply that you don't know about this topic.\n",
        "\"\"\"\n",
        "\n",
        "model = TextGenerationModel.from_pretrained(TEXT_GENERATION_MODEL)\n",
        "response = model.predict(\n",
        "        prompt,\n",
        "        temperature=0.2,\n",
        "        top_k=40,\n",
        "        top_p=.8,\n",
        "        max_output_tokens=1024,\n",
        ")\n",
        "\n",
        "print(f\"Question: \\n{question}\")\n",
        "print(f\"Response: \\n{response.text}\")"
      ]
    },
    {
      "cell_type": "markdown",
      "source": [
        "## Direct usage of Vertex AI Matching Engine (only to showase the direct usage for document retrieval)"
      ],
      "metadata": {
        "id": "-ZNlYVaWtOTG"
      }
    },
    {
      "cell_type": "code",
      "source": [
        "embedding = embeddings.embed_query(\"what is the latency for Vertex AI Matching Engine?\")\n",
        "print(embedding)\n",
        "response = index_endpoint.match(\n",
        "    deployed_index_id=\"palm-langchain-document-answering\",\n",
        "    queries=[embedding]\n",
        ")\n",
        "\n",
        "response"
      ],
      "metadata": {
        "id": "UvPGip0HsJ4a"
      },
      "execution_count": null,
      "outputs": []
    },
    {
      "cell_type": "markdown",
      "metadata": {
        "id": "r3xmzBiyLkP6"
      },
      "source": [
        "# Little Index Helper"
      ]
    },
    {
      "cell_type": "code",
      "execution_count": null,
      "metadata": {
        "id": "ApLrBBwljo9v",
        "colab": {
          "base_uri": "https://localhost:8080/"
        },
        "outputId": "c9fc462d-351d-429e-89c5-080d4d37d763"
      },
      "outputs": [
        {
          "output_type": "stream",
          "name": "stdout",
          "text": [
            "Using endpoint [https://us-central1-aiplatform.googleapis.com/]\n",
            "---\n",
            "createTime: '2023-06-09T15:11:55.283483Z'\n",
            "deployedIndexes:\n",
            "- automaticResources:\n",
            "    maxReplicaCount: 2\n",
            "    minReplicaCount: 2\n",
            "  createTime: '2023-06-09T15:12:02.692696Z'\n",
            "  deploymentGroup: default\n",
            "  id: catawiki_langchain_document_answering\n",
            "  index: projects/234439745674/locations/us-central1/indexes/1910889636423532544\n",
            "  indexSyncTime: '2023-06-09T19:06:23.127411Z'\n",
            "  privateEndpoints:\n",
            "    matchGrpcAddress: 10.78.0.5\n",
            "description: catawiki-langchain-document-answering\n",
            "displayName: catawiki-langchain-document-answering\n",
            "etag: AMEw9yNOk1n2jUEW4GaC_Ge3Oin5gvEr7OGhQpjJMkrVdV3ReJdf6MqMX5MB-1LWoYU=\n",
            "name: projects/234439745674/locations/us-central1/indexEndpoints/4187459248059318272\n",
            "network: projects/234439745674/global/networks/matching-engine-vpc-network\n",
            "updateTime: '2023-06-09T15:11:56.042078Z'\n",
            "---\n",
            "createTime: '2023-06-08T18:12:58.604542Z'\n",
            "deployedIndexes:\n",
            "- automaticResources:\n",
            "    maxReplicaCount: 2\n",
            "    minReplicaCount: 2\n",
            "  createTime: '2023-06-09T10:29:29.365464Z'\n",
            "  deploymentGroup: default\n",
            "  id: image_similarity_vpc\n",
            "  index: projects/234439745674/locations/us-central1/indexes/8666289077479276544\n",
            "  indexSyncTime: '2023-06-09T19:09:49.524242Z'\n",
            "  privateEndpoints:\n",
            "    matchGrpcAddress: 10.78.0.5\n",
            "description: image-similarity-vpc\n",
            "displayName: image-similarity-vpc\n",
            "etag: AMEw9yNqdxK4XU62S07aY3-5NJCb409ig_eo64yik_2nlnCgXluxxWliI32tb8pk2vOr\n",
            "name: projects/234439745674/locations/us-central1/indexEndpoints/2199120012575244288\n",
            "network: projects/234439745674/global/networks/matching-engine-vpc-network\n",
            "updateTime: '2023-06-08T18:12:59.356654Z'\n",
            "---\n",
            "createTime: '2023-06-07T14:07:12.256941Z'\n",
            "description: image-similarity\n",
            "displayName: image-similarity\n",
            "etag: AMEw9yOUnUmEnKzZnOLCwV_P0NtY1tMwGFahFIW7Buxj-ihUurdbqTECCRnDC4VB-beS\n",
            "name: projects/234439745674/locations/us-central1/indexEndpoints/7203322886025641984\n",
            "publicEndpointDomainName: 1746094999.us-central1-234439745674.vdb.vertexai.goog\n",
            "updateTime: '2023-06-07T14:07:12.935544Z'\n",
            "---\n",
            "createTime: '2023-06-06T07:06:05.190362Z'\n",
            "description: palm-langchain-document-answering\n",
            "displayName: palm-langchain-document-answering\n",
            "etag: AMEw9yMiz3Qmld9BkFix9-IXQUTagisydgtOEXM4xExruH487GuKN5uLcyBczl9j-ZJ1\n",
            "name: projects/234439745674/locations/us-central1/indexEndpoints/1017628797832265728\n",
            "publicEndpointDomainName: 2034921986.us-central1-234439745674.vdb.vertexai.goog\n",
            "updateTime: '2023-06-06T07:06:06.923706Z'\n",
            "---\n",
            "createTime: '2023-02-17T16:32:12.159089Z'\n",
            "deployedIndexes:\n",
            "- automaticResources:\n",
            "    maxReplicaCount: 2\n",
            "    minReplicaCount: 2\n",
            "  createTime: '2023-02-18T12:15:51.103412Z'\n",
            "  deploymentGroup: default\n",
            "  displayName: ticket_similarity_deployed_v2\n",
            "  id: ticket_similarity_deployed_v2\n",
            "  index: projects/234439745674/locations/us-central1/indexes/8673273175338909696\n",
            "  indexSyncTime: '2023-06-09T19:08:07.630338Z'\n",
            "  privateEndpoints:\n",
            "    matchGrpcAddress: 10.78.0.5\n",
            "displayName: ticket_similarity_endpoint\n",
            "etag: AMEw9yNjrvUHEgGEHgV0cow0vkZMbwxmADe7btooWKm-ebZnOAbE8YkC7VVe3Sk4k_ln\n",
            "name: projects/234439745674/locations/us-central1/indexEndpoints/4299714987208736768\n",
            "network: projects/234439745674/global/networks/matching-engine-vpc-network\n",
            "updateTime: '2023-02-17T16:32:12.701044Z'\n"
          ]
        }
      ],
      "source": [
        "!gcloud ai index-endpoints list --project=\"sascha-playground-doit\" --region=\"us-central1\""
      ]
    },
    {
      "cell_type": "code",
      "execution_count": null,
      "metadata": {
        "id": "Hq06fuVeN08I",
        "colab": {
          "base_uri": "https://localhost:8080/"
        },
        "outputId": "ba952866-7e96-4905-8385-f9ebbbc3b90d"
      },
      "outputs": [
        {
          "output_type": "stream",
          "name": "stdout",
          "text": [
            "Using endpoint [https://us-central1-aiplatform.googleapis.com/]\n",
            "'@type': type.googleapis.com/google.cloud.aiplatform.v1.UndeployIndexResponse\n"
          ]
        }
      ],
      "source": [
        "!gcloud ai index-endpoints undeploy-index \"4187459248059318272\" \\\n",
        "  --deployed-index-id=\"catawiki_langchain_document_answering\" \\\n",
        "  --project=\"sascha-playground-doit\" \\\n",
        "  --region=\"us-central1\""
      ]
    },
    {
      "cell_type": "code",
      "execution_count": null,
      "metadata": {
        "id": "mY6GyapvOBxa",
        "colab": {
          "base_uri": "https://localhost:8080/"
        },
        "outputId": "b059bb37-7b45-4a0a-a023-f45793219917"
      },
      "outputs": [
        {
          "output_type": "stream",
          "name": "stdout",
          "text": [
            "Using endpoint [https://us-central1-aiplatform.googleapis.com/]\n",
            "---\n",
            "createTime: '2023-06-09T14:00:46.083298Z'\n",
            "displayName: catawiki-langchain-document-answering\n",
            "etag: AMEw9yOo6dzj-x-ZvMTxRgC6s7hLLRtHs35JluhdeVYbIEENGEKqv1d4iEVEKytf1U3B\n",
            "indexStats:\n",
            "  shardsCount: 1\n",
            "  vectorsCount: '2107'\n",
            "indexUpdateMethod: BATCH_UPDATE\n",
            "metadata:\n",
            "  config:\n",
            "    algorithmConfig:\n",
            "      treeAhConfig: {}\n",
            "    approximateNeighborsCount: 150\n",
            "    dimensions: 768\n",
            "    distanceMeasureType: DOT_PRODUCT_DISTANCE\n",
            "    shardSize: SHARD_SIZE_MEDIUM\n",
            "metadataSchemaUri: gs://google-cloud-aiplatform/schema/matchingengine/metadata/nearest_neighbor_search_1.0.0.yaml\n",
            "name: projects/234439745674/locations/us-central1/indexes/1910889636423532544\n",
            "updateTime: '2023-06-09T15:04:45.339416Z'\n",
            "---\n",
            "createTime: '2023-06-09T09:34:02.531861Z'\n",
            "deployedIndexes:\n",
            "- deployedIndexId: image_similarity_vpc\n",
            "  indexEndpoint: projects/234439745674/locations/us-central1/indexEndpoints/2199120012575244288\n",
            "description: image-similarity\n",
            "displayName: image-similarity\n",
            "etag: AMEw9yNJgEc8OSu7W-oK2Et7jucw35GP2-M6hHyGBoSC4l8yX9APN8yJIhcYSADEUM5y\n",
            "indexStats:\n",
            "  shardsCount: 1\n",
            "  vectorsCount: '1'\n",
            "indexUpdateMethod: STREAM_UPDATE\n",
            "metadata:\n",
            "  config:\n",
            "    algorithmConfig:\n",
            "      bruteForceConfig: {}\n",
            "    dimensions: 768\n",
            "    distanceMeasureType: DOT_PRODUCT_DISTANCE\n",
            "    shardSize: SHARD_SIZE_MEDIUM\n",
            "metadataSchemaUri: gs://google-cloud-aiplatform/schema/matchingengine/metadata/nearest_neighbor_search_1.0.0.yaml\n",
            "name: projects/234439745674/locations/us-central1/indexes/8666289077479276544\n",
            "updateTime: '2023-06-09T10:22:33.561479Z'\n",
            "---\n",
            "createTime: '2023-06-09T09:38:26.158853Z'\n",
            "description: image-similarity-vpc\n",
            "displayName: image-similarity-vpc\n",
            "etag: AMEw9yPwzksgJwezLQSSO5utS6pY6pSotwLBvOsO3JLyrOCKD4BWtkYfb-KPCy1BdNs=\n",
            "indexStats:\n",
            "  shardsCount: 1\n",
            "  vectorsCount: '1'\n",
            "indexUpdateMethod: STREAM_UPDATE\n",
            "metadata:\n",
            "  config:\n",
            "    algorithmConfig:\n",
            "      bruteForceConfig: {}\n",
            "    dimensions: 768\n",
            "    distanceMeasureType: DOT_PRODUCT_DISTANCE\n",
            "    shardSize: SHARD_SIZE_MEDIUM\n",
            "metadataSchemaUri: gs://google-cloud-aiplatform/schema/matchingengine/metadata/nearest_neighbor_search_1.0.0.yaml\n",
            "name: projects/234439745674/locations/us-central1/indexes/1676702455800266752\n",
            "updateTime: '2023-06-09T10:22:26.130481Z'\n",
            "---\n",
            "createTime: '2023-06-07T14:24:59.448110Z'\n",
            "description: image-similarity\n",
            "displayName: image-similarity\n",
            "etag: AMEw9yO7CZLox0upRi652oZ8nh_Z5NSFfJpc0x5bjIxwHdwX5XPBcTDWmm6sZauPjMqf\n",
            "indexStats:\n",
            "  shardsCount: 1\n",
            "  vectorsCount: '1'\n",
            "indexUpdateMethod: STREAM_UPDATE\n",
            "metadata:\n",
            "  config:\n",
            "    algorithmConfig:\n",
            "      bruteForceConfig: {}\n",
            "    dimensions: 768\n",
            "    distanceMeasureType: DOT_PRODUCT_DISTANCE\n",
            "    shardSize: SHARD_SIZE_MEDIUM\n",
            "metadataSchemaUri: gs://google-cloud-aiplatform/schema/matchingengine/metadata/nearest_neighbor_search_1.0.0.yaml\n",
            "name: projects/234439745674/locations/us-central1/indexes/8838129550761132032\n",
            "updateTime: '2023-06-07T15:23:34.818774Z'\n",
            "---\n",
            "createTime: '2023-06-07T12:15:20.130521Z'\n",
            "description: image-similarity\n",
            "displayName: image-similarity\n",
            "etag: AMEw9yNHGSX2kdH-NR5MyxY-Y7Sv9eP2l98JjYLGCDXKOkD83ckGgaC9TyHzyY1U4qjB\n",
            "indexStats:\n",
            "  shardsCount: 1\n",
            "indexUpdateMethod: STREAM_UPDATE\n",
            "metadata:\n",
            "  config:\n",
            "    algorithmConfig:\n",
            "      bruteForceConfig: {}\n",
            "    dimensions: 768\n",
            "    distanceMeasureType: DOT_PRODUCT_DISTANCE\n",
            "    shardSize: SHARD_SIZE_MEDIUM\n",
            "metadataSchemaUri: gs://google-cloud-aiplatform/schema/matchingengine/metadata/nearest_neighbor_search_1.0.0.yaml\n",
            "name: projects/234439745674/locations/us-central1/indexes/7743754841310101504\n",
            "updateTime: '2023-06-07T12:52:19.719395Z'\n",
            "---\n",
            "createTime: '2023-06-06T13:16:20.985227Z'\n",
            "description: palm-langchain-document-answering\n",
            "displayName: palm-langchain-document-answering\n",
            "etag: AMEw9yN-FwaUG3d4Y99q8pqgY_mgIph3Jvi6XRQfm_xjwOXfBsZM5tFHQt4kIsBSmLQ=\n",
            "indexStats:\n",
            "  shardsCount: 1\n",
            "indexUpdateMethod: STREAM_UPDATE\n",
            "metadata:\n",
            "  config:\n",
            "    algorithmConfig:\n",
            "      bruteForceConfig: {}\n",
            "    dimensions: 768\n",
            "    distanceMeasureType: DOT_PRODUCT_DISTANCE\n",
            "    shardSize: SHARD_SIZE_MEDIUM\n",
            "metadataSchemaUri: gs://google-cloud-aiplatform/schema/matchingengine/metadata/nearest_neighbor_search_1.0.0.yaml\n",
            "name: projects/234439745674/locations/us-central1/indexes/1109952590193360896\n",
            "updateTime: '2023-06-06T14:00:49.054894Z'\n",
            "---\n",
            "createTime: '2023-06-04T17:00:31.985293Z'\n",
            "description: palm-langchain-document-answering\n",
            "displayName: palm-langchain-document-answering\n",
            "etag: AMEw9yMhkk8gxnEUlXaxv-d_VOm5pCscqfxcnjPanLH6L-YNBOTA7o8OVDeh-VRd8MzZ\n",
            "indexStats:\n",
            "  shardsCount: 1\n",
            "  vectorsCount: '5600'\n",
            "indexUpdateMethod: STREAM_UPDATE\n",
            "metadata:\n",
            "  config:\n",
            "    algorithmConfig:\n",
            "      bruteForceConfig: {}\n",
            "    dimensions: 768\n",
            "    distanceMeasureType: DOT_PRODUCT_DISTANCE\n",
            "    shardSize: SHARD_SIZE_MEDIUM\n",
            "metadataSchemaUri: gs://google-cloud-aiplatform/schema/matchingengine/metadata/nearest_neighbor_search_1.0.0.yaml\n",
            "name: projects/234439745674/locations/us-central1/indexes/8624771518414454784\n",
            "updateTime: '2023-06-04T17:50:36.638098Z'\n",
            "---\n",
            "createTime: '2023-06-02T20:03:54.846045Z'\n",
            "displayName: palm-langchain-document-answering\n",
            "etag: AMEw9yO9eTUUHUjmnxa_Rv08OX1oqvbS2-qrRWScT4UJAPRfJ54UZ9ZoadyePaMzhIul\n",
            "indexStats:\n",
            "  shardsCount: 1\n",
            "  vectorsCount: '9796'\n",
            "indexUpdateMethod: BATCH_UPDATE\n",
            "metadata:\n",
            "  config:\n",
            "    algorithmConfig:\n",
            "      treeAhConfig: {}\n",
            "    approximateNeighborsCount: 150\n",
            "    dimensions: 768\n",
            "    distanceMeasureType: DOT_PRODUCT_DISTANCE\n",
            "    shardSize: SHARD_SIZE_MEDIUM\n",
            "metadataSchemaUri: gs://google-cloud-aiplatform/schema/matchingengine/metadata/nearest_neighbor_search_1.0.0.yaml\n",
            "name: projects/234439745674/locations/us-central1/indexes/1310925723564769280\n",
            "updateTime: '2023-06-02T20:59:23.721145Z'\n",
            "---\n",
            "createTime: '2023-06-02T18:58:34.363128Z'\n",
            "description: palm-langchain-document-answering\n",
            "displayName: palm-langchain-document-answering\n",
            "etag: AMEw9yOxp_Y_g3lHPrV0iyEve4FQoHN-kIayOrg1T2Uv5u1iHC5drNnaI080u-cJPmMc\n",
            "indexStats:\n",
            "  shardsCount: 1\n",
            "  vectorsCount: '9796'\n",
            "indexUpdateMethod: STREAM_UPDATE\n",
            "metadata:\n",
            "  config:\n",
            "    algorithmConfig:\n",
            "      bruteForceConfig: {}\n",
            "    dimensions: 768\n",
            "    distanceMeasureType: DOT_PRODUCT_DISTANCE\n",
            "    shardSize: SHARD_SIZE_MEDIUM\n",
            "metadataSchemaUri: gs://google-cloud-aiplatform/schema/matchingengine/metadata/nearest_neighbor_search_1.0.0.yaml\n",
            "name: projects/234439745674/locations/us-central1/indexes/686051275267112960\n",
            "updateTime: '2023-06-02T20:01:08.426449Z'\n",
            "---\n",
            "createTime: '2023-04-27T19:51:41.569861Z'\n",
            "description: ticket_similarity_sandbox\n",
            "displayName: ticket_similarity_sandbox\n",
            "etag: AMEw9yPj2PMSXYIpE2d05Ktw-D54Ybhzpu40LhHLpcOy-aM_OXJjOjy3a6bh3nj-w6E=\n",
            "indexStats:\n",
            "  shardsCount: 1\n",
            "  vectorsCount: '115617'\n",
            "indexUpdateMethod: STREAM_UPDATE\n",
            "metadata:\n",
            "  config:\n",
            "    algorithmConfig:\n",
            "      bruteForceConfig: {}\n",
            "    dimensions: 768\n",
            "    distanceMeasureType: DOT_PRODUCT_DISTANCE\n",
            "    shardSize: SHARD_SIZE_SMALL\n",
            "metadataSchemaUri: gs://google-cloud-aiplatform/schema/matchingengine/metadata/nearest_neighbor_search_1.0.0.yaml\n",
            "name: projects/234439745674/locations/us-central1/indexes/3332830850021588992\n",
            "updateTime: '2023-04-27T20:42:44.242669Z'\n",
            "---\n",
            "createTime: '2023-02-18T11:03:01.344827Z'\n",
            "deployedIndexes:\n",
            "- deployedIndexId: ticket_similarity_deployed_v2\n",
            "  indexEndpoint: projects/234439745674/locations/us-central1/indexEndpoints/4299714987208736768\n",
            "description: Glove 100 ANN index\n",
            "displayName: ticket_similarity\n",
            "etag: AMEw9yPVKz8n-WWn_uCcrpj5RMayrRHlDrli90-DTliLahVaZHN0eoSlEhgvfE7edRMA\n",
            "indexStats:\n",
            "  shardsCount: 1\n",
            "  vectorsCount: '105205'\n",
            "indexUpdateMethod: STREAM_UPDATE\n",
            "metadata:\n",
            "  config:\n",
            "    algorithmConfig:\n",
            "      bruteForceConfig: {}\n",
            "    dimensions: 768\n",
            "    distanceMeasureType: DOT_PRODUCT_DISTANCE\n",
            "    shardSize: SHARD_SIZE_MEDIUM\n",
            "metadataSchemaUri: gs://google-cloud-aiplatform/schema/matchingengine/metadata/nearest_neighbor_search_1.0.0.yaml\n",
            "name: projects/234439745674/locations/us-central1/indexes/8673273175338909696\n",
            "updateTime: '2023-03-30T03:39:26.867308Z'\n",
            "---\n",
            "createTime: '2023-02-17T21:12:40.601703Z'\n",
            "description: Glove 100 ANN index\n",
            "displayName: ticket_similarity\n",
            "etag: AMEw9yPbNIOHMICUA3m4XasDMxicM6aBqZJ57GwRJzl3zgwjavetq4HiokZa3QtwB8k=\n",
            "indexStats:\n",
            "  shardsCount: 1\n",
            "  vectorsCount: '18'\n",
            "indexUpdateMethod: STREAM_UPDATE\n",
            "metadata:\n",
            "  config:\n",
            "    algorithmConfig:\n",
            "      bruteForceConfig: {}\n",
            "    dimensions: 768\n",
            "    distanceMeasureType: DOT_PRODUCT_DISTANCE\n",
            "    shardSize: SHARD_SIZE_MEDIUM\n",
            "metadataSchemaUri: gs://google-cloud-aiplatform/schema/matchingengine/metadata/nearest_neighbor_search_1.0.0.yaml\n",
            "name: projects/234439745674/locations/us-central1/indexes/3777860380387180544\n",
            "updateTime: '2023-02-20T23:00:04.066413Z'\n",
            "---\n",
            "createTime: '2023-02-18T21:20:21.930810Z'\n",
            "description: ticket_similarity_curl_test\n",
            "displayName: ticket_similarity_curl_test\n",
            "etag: AMEw9yMaTlEgI_8wBSj_5xe-It0Li1Sugz_nqRb6SltVSf46i3NX-WC81WhPIgQBrwQ=\n",
            "indexStats:\n",
            "  shardsCount: 1\n",
            "  vectorsCount: '104732'\n",
            "indexUpdateMethod: STREAM_UPDATE\n",
            "metadata:\n",
            "  config:\n",
            "    algorithmConfig:\n",
            "      bruteForceConfig: {}\n",
            "    dimensions: 768\n",
            "    distanceMeasureType: DOT_PRODUCT_DISTANCE\n",
            "    shardSize: SHARD_SIZE_MEDIUM\n",
            "metadataSchemaUri: gs://google-cloud-aiplatform/schema/matchingengine/metadata/nearest_neighbor_search_1.0.0.yaml\n",
            "name: projects/234439745674/locations/us-central1/indexes/3509333252605214720\n",
            "updateTime: '2023-02-18T22:02:21.091250Z'\n"
          ]
        }
      ],
      "source": [
        "!gcloud ai indexes list \\\n",
        "  --project=\"sascha-playground-doit\" \\\n",
        "  --region=\"us-central1\""
      ]
    },
    {
      "cell_type": "code",
      "execution_count": null,
      "metadata": {
        "id": "zplIeXRVOM-I",
        "colab": {
          "base_uri": "https://localhost:8080/"
        },
        "outputId": "1dc36d65-e0dd-4fd6-e1ea-612bd751b729"
      },
      "outputs": [
        {
          "output_type": "stream",
          "name": "stdout",
          "text": [
            "Using endpoint [https://us-central1-aiplatform.googleapis.com/]\n"
          ]
        }
      ],
      "source": [
        "!gcloud -q ai indexes delete \"projects/234439745674/locations/us-central1/indexes/1910889636423532544\" \\\n",
        "  --project=\"sascha-playground-doit\" \\\n",
        "  --region=\"us-central1\""
      ]
    },
    {
      "cell_type": "code",
      "source": [
        "!gcloud ai index-endpoints delete 5731859668712554496 \\\n",
        "  --project=\"sascha-playground-doit\" \\\n",
        "  --region=\"us-central1\" \\\n",
        "  --quiet"
      ],
      "metadata": {
        "id": "VBeyBjfRhKCh"
      },
      "execution_count": null,
      "outputs": []
    },
    {
      "cell_type": "code",
      "source": [],
      "metadata": {
        "id": "lyMIOAbPhRsK"
      },
      "execution_count": null,
      "outputs": []
    }
  ],
  "metadata": {
    "colab": {
      "provenance": [],
      "toc_visible": true,
      "include_colab_link": true
    },
    "kernelspec": {
      "display_name": "Python 3",
      "name": "python3"
    },
    "language_info": {
      "name": "python"
    }
  },
  "nbformat": 4,
  "nbformat_minor": 0
}